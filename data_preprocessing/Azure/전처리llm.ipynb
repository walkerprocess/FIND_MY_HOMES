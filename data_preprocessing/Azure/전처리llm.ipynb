{
 "cells": [
  {
   "cell_type": "code",
   "execution_count": null,
   "id": "9bf16f5d",
   "metadata": {},
   "outputs": [
    {
     "name": "stdout",
     "output_type": "stream",
     "text": [
      "✅ 변환 완료: result.txt\n"
     ]
    },
    {
     "data": {
      "text/plain": [
       "'(본문 텍스트)\\n\\n### 모집 일정에 대한 설명\\n\\n■ 모집 일정은 다음과 같이 진행됩니다:  \\n1. **모집 공고**  \\n   - 2025년 3월 27일(목)에 공고됩니다.  \\n2. **신청 접수**  \\n   - 인터넷 및 모바일을 통해 2025년 4월 7일(월)부터 4월 9일(수)까지 접수 가능합니다.  \\n3. **서류심사 대상자 발표**  \\n   - 2025년 4월 11일(금)에 발표됩니다.  \\n4. **서류 제출**  \\n   - 선정된 대상자는 2025년 4월 14일(월)부터 4월 16일(수)까지 서류를 등기우편으로 제출해야 합니다.  \\n5. **자격 검증**  \\n   - 자격 검증은 개별 안내를 통해 진행됩니다.  \\n6. **예비입주자 순번 발표**  \\n   - 2025년 6월 13일(금)에 발표됩니다.  \\n7. **계약 체결**  \\n   - 예비입주자 순번 도래 시 계약이 체결됩니다.  \\n8. **입주**  \\n   - 계약일부터 60일 이내에 입주를 완료해야 합니다.  \\n\\n---\\n\\n### 임대기간 및 임대조건\\n\\n■ 임대기간  \\n- 최초 임대기간은 2년이며, 자격 충족 시 2년 단위로 최대 4회 재계약 가능(최장 10년 거주).  \\n- 입주 후 혼인한 경우, 재계약 횟수 5회 추가 가능(최장 20년 거주).  \\n\\n■ 임대조건  \\n- 시중 시세의 40~50% 수준으로 임대료 및 보증금이 책정됩니다.  \\n- 1순위는 시중 시세의 40%(임대보증금 100만 원), 2·3순위는 시중 시세의 50%(임대보증금 200만 원)로 적용됩니다.  \\n- 임대보증금을 증액하여 월임대료를 낮출 수 있으며, 전환한도는 기본 월임대료의 최대 60%까지 가능합니다. 예를 들어, 300만 원 추가 납부 시 월임대료가 약 17,500원 감소합니다.  \\n\\n---\\n\\n### 입주자격 및 입주순위\\n\\n■ 입주자격  \\n- 공고일 기준(2025년 3월 27일) 무주택자인 미혼 청년(19세 이상 39세 이하)으로 소득 및 자산 기준을 충족해야 합니다.  \\n- 대학생(입학·복학 예정자 포함) 및 취업준비생도 신청 가능합니다.  \\n\\n■ 입주순위  \\n1. **1순위**  \\n   - 국민기초생활보장법에 따른 생계·의료·주거급여 수급자, 지원대상 한부모가족, 차상위계층 가구.  \\n2. **2순위**  \\n   - 본인과 부모의 월평균 소득이 도시근로자 가구당 월평균 소득의 100% 이하이며, 국민임대주택 자산기준 충족.  \\n3. **3순위**  \\n   - 본인의 월평균 소득이 도시근로자 1인 가구 월평균 소득의 100% 이하이며, 행복주택 자산기준 충족.  \\n\\n---\\n\\n### 소득·자산 기준\\n\\n■ 소득 기준  \\n- 1순위는 수급자로서 자격 확인만 필요합니다.  \\n- 2순위는 본인과 부모 월평균 소득 기준이 1인 가구 4,317,797원, 2인 가구 6,024,703원, 3인 가구 7,626,973원 이하이어야 합니다.  \\n- 3순위는 본인 월평균 소득 기준이 1인 가구 4,317,797원 이하이어야 합니다.  \\n\\n■ 자산 기준  \\n- 2순위는 총자산 33,700만 원 이하, 자동차 3,803만 원 이하.  \\n- 3순위는 총자산 25,400만 원 이하, 자동차 3,803만 원 이하.  \\n\\n---\\n\\n### 제출서류 및 방법\\n\\n■ 공통 제출서류  \\n1. 주민등록표등본: 세대 구성원 및 변동 사항이 명시되어야 합니다.  \\n2. 가족관계증명서: 상세 발급본 제출.  \\n3. 개인정보 수집·이용 및 제3자 제공 동의서: 모든 검증대상이 서명해야 합니다.  \\n\\n■ 입주자격 확인 서류  \\n- 대학생은 재학증명서, 복학·입학 예정자는 관련 증빙서류 제출.  \\n- 취업준비생은 건강보험 자격득실 확인서, 졸업·중퇴 증명서 등 제출.  \\n\\n■ 제출 방법  \\n- 등기우편으로 제출하며, 마감일 우체국 소인분까지만 유효합니다.  \\n\\n---\\n\\n### 기타 유의사항\\n\\n■ 신청 유의사항  \\n- 신청 내용이 사실과 다를 경우 부적격 처리, 당첨 취소 등의 불이익이 발생할 수 있습니다.  \\n- 인터넷 청약 시 신청 내용 입력 오류로 인한 책임은 신청자 본인에게 있습니다.  \\n\\n■ 계약 및 입주  \\n- 계약 체결 후 60일 이내에 입주를 완료해야 하며, 임대주택 및 내부 시설물의 파손·멸실 시 원상복구 비용을 부담해야 합니다.  \\n- 임차권 양도 및 전대는 금지되어 있으며, 이를 위반할 경우 민·형사상 처벌 대상이 됩니다.  \\n\\n■ 기타  \\n- 청년 매입임대주택은 냉장고, 전자레인지, 책걸상 등이 비치되어 있으며, 일부 품목은 지역별·주택별 여건에 따라 변경될 수 있습니다.  \\n\\n(본문 텍스트 계속)'"
      ]
     },
     "execution_count": 9,
     "metadata": {},
     "output_type": "execute_result"
    },
    {
     "ename": "",
     "evalue": "",
     "output_type": "error",
     "traceback": [
      "\u001b[1;31mThe Kernel crashed while executing code in the current cell or a previous cell. \n",
      "\u001b[1;31mPlease review the code in the cell(s) to identify a possible cause of the failure. \n",
      "\u001b[1;31mClick <a href='https://aka.ms/vscodeJupyterKernelCrash'>here</a> for more info. \n",
      "\u001b[1;31mView Jupyter <a href='command:jupyter.viewOutput'>log</a> for further details."
     ]
    }
   ],
   "source": [
    "# Jupyter나 VS Code에서 실행 시 사용할 수 있도록 수정한 버전\n",
    "\n",
    "import os\n",
    "from openai import AzureOpenAI\n",
    "from dotenv import load_dotenv\n",
    "\n",
    "def process_file(input_file_path, output_file_path=None):\n",
    "    \"\"\"\n",
    "    Process an input file through Azure AI to convert HTML tables to text.\n",
    "    \"\"\"\n",
    "    load_dotenv()\n",
    "    endpoint = os.getenv(\"ENDPOINT_URL\")\n",
    "    deployment = os.getenv(\"DEPLOYMENT_NAME\")\n",
    "    subscription_key = os.getenv(\"AZURE_OPENAI_KEY\")\n",
    "    \n",
    "    if not all([endpoint, deployment, subscription_key]):\n",
    "        raise ValueError(\"환경변수 누락: ENDPOINT_URL, DEPLOYMENT_NAME, AZURE_OPENAI_KEY를 확인하세요.\")\n",
    "    \n",
    "    client = AzureOpenAI(\n",
    "        azure_endpoint=endpoint,\n",
    "        api_key=subscription_key,\n",
    "        api_version=\"2024-05-01-preview\",\n",
    "    )\n",
    "    \n",
    "    with open(input_file_path, 'r', encoding='utf-8') as file:\n",
    "        input_content = file.read()\n",
    "    \n",
    "    chat_prompt = [\n",
    "        {\n",
    "            \"role\": \"system\",\n",
    "            \"content\": [\n",
    "                {\n",
    "                    \"type\": \"text\",\n",
    "                    \"text\": \"너는 HTML 테이블을 읽고 자연스러운 서술형 텍스트로 변환하는 텍스트 변환 엔진이다.\\n\\n입력 데이터는 일반 텍스트와 HTML 코드가 혼합된 문서이며, 이 중 HTML 테이블(`<table>`) 형식으로 작성된 표만을 감지하여 사람이 읽기 쉬운 **자연스러운 텍스트**로 변환하라. 표 외의 일반 텍스트는 **절대로 변경하지 않는다**. \\n\\n출력된 텍스트는 아래의 기준을 모두 따라야 한다:\\n\\n1. 표의 계층 구조, 제목, 셀의 관계를 모두 파악하여 자연어로 기술한다.\\n2. 셀이 병합된 경우 (`rowspan`, `colspan`)에는 의미적으로 내용을 통합하여 풀어서 설명한다.\\n3. 표 안에 또 다른 표가 중첩되어 있는 경우에도 각 표를 계층적으로 처리하고, 문맥상 자연스럽게 연결되도록 한다.\\n4. 빈 칸이 있는 경우, 내용을 유추하지 않고 \\\"(빈칸)\\\" 또는 \\\"해당 없음\\\" 등으로 명확하게 표기한다.\\n5. 항목 간 구분은 \\\"■\\\", \\\"1.\\\", \\\"-\\\" 등을 사용하여 명확히 구분하고, 계층적으로 정리한다.\\n6. 결과 텍스트는 반드시 문맥상 자연스럽고 일관되게 연결되어야 하며, 원래 문서의 흐름과 연결되도록 이어져야 한다.\\n7. HTML 태그가 아닌 일반 텍스트 영역은 절대로 수정하거나 재구성하지 않는다.\\n8. 결과는 마크다운 문서로 사용 가능한 수준의 가독성을 갖춰야 하며, 표를 설명하는 문장은 공식 문서나 계약서 스타일처럼 명료하고 단정하게 작성한다.\\n\\n예외나 애매한 구조가 있어도 최대한 의미를 보존하여 사람이 이해할 수 있도록 직관적으로 설명하라.\\n\\n입력 형식 예시:\\n(본문 텍스트)\\n<table>...</table>\\n(본문 텍스트 계속)\\n\\n출력 형식 예시:\\n(본문 텍스트)\\n■ 항목명  \\n- 내용1  \\n- 내용2  \\n이제 아래에 입력된 문서 내 HTML 테이블을 위 기준에 따라 서술형 텍스트로 변환하라.\"\n",
    "                }\n",
    "            ]\n",
    "        },\n",
    "        {\n",
    "            \"role\": \"user\",\n",
    "            \"content\": [\n",
    "                {\n",
    "                    \"type\": \"text\",\n",
    "                    \"text\": input_content\n",
    "                }\n",
    "            ]\n",
    "        }\n",
    "    ]\n",
    "    \n",
    "    completion = client.chat.completions.create(\n",
    "        model=deployment,\n",
    "        messages=chat_prompt,\n",
    "        max_tokens=1500,\n",
    "        temperature=0.7,\n",
    "        top_p=0.95,\n",
    "        frequency_penalty=0,\n",
    "        presence_penalty=0,\n",
    "        stream=False\n",
    "    )\n",
    "    \n",
    "    processed_text = completion.choices[0].message.content\n",
    "    \n",
    "    if not output_file_path:\n",
    "        base, _ = os.path.splitext(input_file_path)\n",
    "        output_file_path = f\"{base}_processed.txt\"\n",
    "    \n",
    "    with open(output_file_path, 'w', encoding='utf-8') as file:\n",
    "        file.write(processed_text)\n",
    "    \n",
    "    print(f\"✅ 변환 완료: {output_file_path}\")\n",
    "    return processed_text\n",
    "\n",
    "\n",
    "# 🔽 여기서 input/output 경로 지정해서 실행\n",
    "input_path = \"document_result.md\"  # ← 실제 파일 경로로 수정\n",
    "output_path = \"result.txt\"  # 또는 \"결과저장파일.txt\"\n",
    "\n",
    "process_file(input_path, output_path)\n"
   ]
  },
  {
   "cell_type": "code",
   "execution_count": null,
   "id": "9665ad8f",
   "metadata": {},
   "outputs": [],
   "source": []
  }
 ],
 "metadata": {
  "kernelspec": {
   "display_name": "Python 3",
   "language": "python",
   "name": "python3"
  },
  "language_info": {
   "codemirror_mode": {
    "name": "ipython",
    "version": 3
   },
   "file_extension": ".py",
   "mimetype": "text/x-python",
   "name": "python",
   "nbconvert_exporter": "python",
   "pygments_lexer": "ipython3",
   "version": "3.13.1"
  }
 },
 "nbformat": 4,
 "nbformat_minor": 5
}
