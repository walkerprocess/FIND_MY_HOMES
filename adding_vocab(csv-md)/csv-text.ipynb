{
 "cells": [
  {
   "cell_type": "code",
   "execution_count": 1,
   "id": "4150fd07",
   "metadata": {},
   "outputs": [
    {
     "name": "stdout",
     "output_type": "stream",
     "text": [
      "Defaulting to user installation because normal site-packages is not writeable\n",
      "Collecting aspose-cells\n",
      "  Downloading aspose_cells-24.10.0-py3-none-any.whl.metadata (4.9 kB)\n",
      "Collecting JPype1>=1.2.1 (from aspose-cells)\n",
      "  Downloading jpype1-1.5.2-cp313-cp313-win_amd64.whl.metadata (5.0 kB)\n",
      "Requirement already satisfied: packaging in c:\\users\\blank\\appdata\\roaming\\python\\python313\\site-packages (from JPype1>=1.2.1->aspose-cells) (24.2)\n",
      "Downloading aspose_cells-24.10.0-py3-none-any.whl (14.5 MB)\n",
      "   ---------------------------------------- 0.0/14.5 MB ? eta -:--:--\n",
      "   -------- ------------------------------- 3.1/14.5 MB 34.0 MB/s eta 0:00:01\n",
      "   ------------- -------------------------- 4.7/14.5 MB 12.6 MB/s eta 0:00:01\n",
      "   -------------- ------------------------- 5.2/14.5 MB 12.9 MB/s eta 0:00:01\n",
      "   -------------------------- ------------- 9.4/14.5 MB 12.4 MB/s eta 0:00:01\n",
      "   ---------------------------------- ----- 12.3/14.5 MB 12.0 MB/s eta 0:00:01\n",
      "   ------------------------------------- -- 13.6/14.5 MB 11.4 MB/s eta 0:00:01\n",
      "   ---------------------------------------- 14.5/14.5 MB 9.9 MB/s eta 0:00:00\n",
      "Downloading jpype1-1.5.2-cp313-cp313-win_amd64.whl (356 kB)\n",
      "Installing collected packages: JPype1, aspose-cells\n",
      "Successfully installed JPype1-1.5.2 aspose-cells-24.10.0\n",
      "Note: you may need to restart the kernel to use updated packages.\n"
     ]
    }
   ],
   "source": [
    "pip install aspose-cells"
   ]
  },
  {
   "cell_type": "code",
   "execution_count": 7,
   "id": "27aef2fd",
   "metadata": {},
   "outputs": [
    {
     "name": "stdout",
     "output_type": "stream",
     "text": [
      "Index(['주택금융용어', '용어설명', '대표 사용례'], dtype='object')\n"
     ]
    }
   ],
   "source": [
    "import pandas as pd\n",
    "\n",
    "# 엑셀 파일 경로\n",
    "file_path = \"한국주택금융공사_주택금융용어집_20171228..xlsx\"\n",
    "\n",
    "# 엑셀 파일 읽기\n",
    "df = pd.read_excel(file_path)\n",
    "\n",
    "# 데이터 확인 (컬럼 이름 추정용)\n",
    "print(df.columns)\n",
    "\n",
    "# 예시로 예상 컬럼명이 '용어', '정의', '사례'라고 가정\n",
    "# 필요한 경우 여기에 실제 컬럼명을 맞춰서 수정해 주세요\n",
    "word_col = '주택금융용어'\n",
    "definition_col = '용어설명'\n",
    "example_col = '대표 사용례' if '대표 사용례' in df.columns else None  # 예시가 없을 수도 있으니 조건 처리\n",
    "\n",
    "# txt 파일로 저장\n",
    "with open(\"용어집.txt\", \"w\", encoding=\"utf-8\") as f:\n",
    "    for i, row in df.iterrows():\n",
    "        word = str(row[word_col]).strip()\n",
    "        definition = str(row[definition_col]).strip()\n",
    "        example = str(row[example_col]).strip() if example_col else \"\"\n",
    "        \n",
    "        # 포맷: 단어: 뜻 (예시: ~) 형식\n",
    "        if example:\n",
    "            entry = f\"{word}: {definition} (예시: {example})\\n\"\n",
    "        else:\n",
    "            entry = f\"{word}: {definition}\\n\"\n",
    "        f.write(entry)\n"
   ]
  },
  {
   "cell_type": "code",
   "execution_count": 5,
   "id": "57be41eb",
   "metadata": {},
   "outputs": [
    {
     "name": "stdout",
     "output_type": "stream",
     "text": [
      "Defaulting to user installation because normal site-packages is not writeable\n",
      "Collecting openpyxl\n",
      "  Downloading openpyxl-3.1.5-py2.py3-none-any.whl.metadata (2.5 kB)\n",
      "Collecting et-xmlfile (from openpyxl)\n",
      "  Downloading et_xmlfile-2.0.0-py3-none-any.whl.metadata (2.7 kB)\n",
      "Downloading openpyxl-3.1.5-py2.py3-none-any.whl (250 kB)\n",
      "Downloading et_xmlfile-2.0.0-py3-none-any.whl (18 kB)\n",
      "Installing collected packages: et-xmlfile, openpyxl\n",
      "Successfully installed et-xmlfile-2.0.0 openpyxl-3.1.5\n",
      "Note: you may need to restart the kernel to use updated packages.\n"
     ]
    }
   ],
   "source": [
    "pip install openpyxl"
   ]
  },
  {
   "cell_type": "markdown",
   "id": "4e42f0f0",
   "metadata": {},
   "source": [
    "# csv --> md"
   ]
  },
  {
   "cell_type": "code",
   "execution_count": 20,
   "id": "7bd8727c",
   "metadata": {},
   "outputs": [],
   "source": [
    "import pandas as pd\n",
    "\n",
    "# 엑셀 파일 읽기\n",
    "df = pd.read_excel(\"한국주택금융공사_주택금융용어집_20171228..xlsx\")\n",
    "\n",
    "# 마크다운 변환 함수\n",
    "def convert_to_markdown(df):\n",
    "    md = \"# 용어들\\n\\n\"\n",
    "    for idx, row in df.iterrows():\n",
    "        term = str(row.get(\"주택금융용어\", \"\")).strip()\n",
    "        definition = str(row.get(\"용어설명\", \"\")).strip()\n",
    "        example = str(row.get(\"대표 사용례\", \"\")).strip() if \"대표 사용례\" in df.columns else \"\"\n",
    "\n",
    "        if term:\n",
    "            md += f\"## {term}\\n\"\n",
    "            if definition:\n",
    "                md += f\"{definition}\\n\"\n",
    "            md += \"\\n\"\n",
    "    return md\n",
    "\n",
    "# 변환 실행\n",
    "markdown_output = convert_to_markdown(df)\n",
    "\n",
    "# 파일로 저장\n",
    "with open(\"용어집.md\", \"w\", encoding=\"utf-8\") as f:\n",
    "    f.write(markdown_output)"
   ]
  },
  {
   "cell_type": "markdown",
   "id": "3c637fcb",
   "metadata": {},
   "source": [
    "# Merging Vocabs with Original Documents"
   ]
  },
  {
   "cell_type": "code",
   "execution_count": 21,
   "id": "a267ff67",
   "metadata": {},
   "outputs": [],
   "source": [
    "def merge_markdown_files(file1_path, file2_path, output_path):\n",
    "    # 두 마크다운 파일 읽기\n",
    "    with open(file1_path, 'r', encoding='utf-8') as f1:\n",
    "        content1 = f1.read().strip()\n",
    "\n",
    "    with open(file2_path, 'r', encoding='utf-8') as f2:\n",
    "        content2 = f2.read().strip()\n",
    "\n",
    "    # 구분선 추가 (계층 구분을 위해)\n",
    "    separator = \"\\n\\n---\\n\\n\"\n",
    "\n",
    "    # 합치기: 첫 번째 파일이 위로\n",
    "    merged_content = content1 + separator + content2\n",
    "\n",
    "    # 결과 저장\n",
    "    with open(output_path, 'w', encoding='utf-8') as out:\n",
    "        out.write(merged_content)\n",
    "\n",
    "# 사용 예시\n",
    "merge_markdown_files(\"아츠스테이영등포_입주자모집공고문.md\", \"용어집.md\", \"합쳐진_용어집.md\")"
   ]
  },
  {
   "cell_type": "code",
   "execution_count": 2,
   "id": "bf657e88",
   "metadata": {},
   "outputs": [
    {
     "name": "stdout",
     "output_type": "stream",
     "text": [
      "모든 파일이 'mixed_md' 폴더에 저장되었습니다.\n"
     ]
    }
   ],
   "source": [
    "import os\n",
    "\n",
    "def merge_with_glossary(glossary_path, input_folder, output_folder):\n",
    "    # 용어집 읽기\n",
    "    with open(glossary_path, 'r', encoding='utf-8') as glossary_file:\n",
    "        glossary_content = glossary_file.read().strip()\n",
    "\n",
    "    # 출력 폴더가 없으면 생성\n",
    "    os.makedirs(output_folder, exist_ok=True)\n",
    "\n",
    "    # 폴더 내의 모든 md 파일 처리\n",
    "    for filename in os.listdir(input_folder):\n",
    "        if filename.endswith('.md') and filename != os.path.basename(glossary_path):\n",
    "            input_path = os.path.join(input_folder, filename)\n",
    "\n",
    "            with open(input_path, 'r', encoding='utf-8') as f:\n",
    "                file_content = f.read().strip()\n",
    "\n",
    "            # 구분선으로 구분해서 합치기\n",
    "            separator = \"\\n\\n---\\n\\n\"\n",
    "            merged_content = file_content + separator + glossary_content\n",
    "\n",
    "            # 출력 경로\n",
    "            output_path = os.path.join(output_folder, f\"merged_{filename}\")\n",
    "            with open(output_path, 'w', encoding='utf-8') as out_file:\n",
    "                out_file.write(merged_content)\n",
    "\n",
    "    print(f\"모든 파일이 '{output_folder}' 폴더에 저장되었습니다.\")\n",
    "\n",
    "# 사용 예시\n",
    "merge_with_glossary(\n",
    "    glossary_path=\"용어집.md\",\n",
    "    input_folder=\"original_md\",   # 여기에 md 파일들이 들어있는 폴더 경로 입력\n",
    "    output_folder=\"mixed_md\"      # 결과 저장 폴더\n",
    ")"
   ]
  },
  {
   "cell_type": "code",
   "execution_count": null,
   "id": "a9601f78",
   "metadata": {},
   "outputs": [],
   "source": []
  }
 ],
 "metadata": {
  "kernelspec": {
   "display_name": "Python 3",
   "language": "python",
   "name": "python3"
  },
  "language_info": {
   "codemirror_mode": {
    "name": "ipython",
    "version": 3
   },
   "file_extension": ".py",
   "mimetype": "text/x-python",
   "name": "python",
   "nbconvert_exporter": "python",
   "pygments_lexer": "ipython3",
   "version": "3.13.1"
  }
 },
 "nbformat": 4,
 "nbformat_minor": 5
}
